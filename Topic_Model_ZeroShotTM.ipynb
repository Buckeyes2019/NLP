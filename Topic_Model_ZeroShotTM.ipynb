{
  "nbformat": 4,
  "nbformat_minor": 0,
  "metadata": {
    "colab": {
      "name": "Topic_Model_ZeroShotTM",
      "provenance": [],
      "authorship_tag": "ABX9TyOe17DES2CsYFIrB0Pg5+Ev",
      "include_colab_link": true
    },
    "kernelspec": {
      "name": "python3",
      "display_name": "Python 3"
    },
    "language_info": {
      "name": "python"
    },
    "accelerator": "GPU",
    "widgets": {
      "application/vnd.jupyter.widget-state+json": {
        "af11f3680a0646f691b0912889177203": {
          "model_module": "@jupyter-widgets/controls",
          "model_name": "HBoxModel",
          "model_module_version": "1.5.0",
          "state": {
            "_view_name": "HBoxView",
            "_dom_classes": [],
            "_model_name": "HBoxModel",
            "_view_module": "@jupyter-widgets/controls",
            "_model_module_version": "1.5.0",
            "_view_count": null,
            "_view_module_version": "1.5.0",
            "box_style": "",
            "layout": "IPY_MODEL_4a5c12fb4d824438b98f1a4684e3c0db",
            "_model_module": "@jupyter-widgets/controls",
            "children": [
              "IPY_MODEL_87be00a7c1d048a1afd32ed24485b10f",
              "IPY_MODEL_916c1ff343d649a59fdaf8c7fa21bcce",
              "IPY_MODEL_1148ccfae63e415a95062d155c92eb37"
            ]
          }
        },
        "4a5c12fb4d824438b98f1a4684e3c0db": {
          "model_module": "@jupyter-widgets/base",
          "model_name": "LayoutModel",
          "model_module_version": "1.2.0",
          "state": {
            "_view_name": "LayoutView",
            "grid_template_rows": null,
            "right": null,
            "justify_content": null,
            "_view_module": "@jupyter-widgets/base",
            "overflow": null,
            "_model_module_version": "1.2.0",
            "_view_count": null,
            "flex_flow": null,
            "width": null,
            "min_width": null,
            "border": null,
            "align_items": null,
            "bottom": null,
            "_model_module": "@jupyter-widgets/base",
            "top": null,
            "grid_column": null,
            "overflow_y": null,
            "overflow_x": null,
            "grid_auto_flow": null,
            "grid_area": null,
            "grid_template_columns": null,
            "flex": null,
            "_model_name": "LayoutModel",
            "justify_items": null,
            "grid_row": null,
            "max_height": null,
            "align_content": null,
            "visibility": null,
            "align_self": null,
            "height": null,
            "min_height": null,
            "padding": null,
            "grid_auto_rows": null,
            "grid_gap": null,
            "max_width": null,
            "order": null,
            "_view_module_version": "1.2.0",
            "grid_template_areas": null,
            "object_position": null,
            "object_fit": null,
            "grid_auto_columns": null,
            "margin": null,
            "display": null,
            "left": null
          }
        },
        "87be00a7c1d048a1afd32ed24485b10f": {
          "model_module": "@jupyter-widgets/controls",
          "model_name": "HTMLModel",
          "model_module_version": "1.5.0",
          "state": {
            "_view_name": "HTMLView",
            "style": "IPY_MODEL_921f11b1f5f14b83989e18b0066f1309",
            "_dom_classes": [],
            "description": "",
            "_model_name": "HTMLModel",
            "placeholder": "​",
            "_view_module": "@jupyter-widgets/controls",
            "_model_module_version": "1.5.0",
            "value": "Batches: 100%",
            "_view_count": null,
            "_view_module_version": "1.5.0",
            "description_tooltip": null,
            "_model_module": "@jupyter-widgets/controls",
            "layout": "IPY_MODEL_4037574ce0534cb69b941bd70a3eddae"
          }
        },
        "916c1ff343d649a59fdaf8c7fa21bcce": {
          "model_module": "@jupyter-widgets/controls",
          "model_name": "FloatProgressModel",
          "model_module_version": "1.5.0",
          "state": {
            "_view_name": "ProgressView",
            "style": "IPY_MODEL_565061f2ee3e47bd8c902f8971e27888",
            "_dom_classes": [],
            "description": "",
            "_model_name": "FloatProgressModel",
            "bar_style": "success",
            "max": 4,
            "_view_module": "@jupyter-widgets/controls",
            "_model_module_version": "1.5.0",
            "value": 4,
            "_view_count": null,
            "_view_module_version": "1.5.0",
            "orientation": "horizontal",
            "min": 0,
            "description_tooltip": null,
            "_model_module": "@jupyter-widgets/controls",
            "layout": "IPY_MODEL_c7d509c057794672b7a28faa3d709dea"
          }
        },
        "1148ccfae63e415a95062d155c92eb37": {
          "model_module": "@jupyter-widgets/controls",
          "model_name": "HTMLModel",
          "model_module_version": "1.5.0",
          "state": {
            "_view_name": "HTMLView",
            "style": "IPY_MODEL_59b451fedefe43049b595186001d205b",
            "_dom_classes": [],
            "description": "",
            "_model_name": "HTMLModel",
            "placeholder": "​",
            "_view_module": "@jupyter-widgets/controls",
            "_model_module_version": "1.5.0",
            "value": " 4/4 [00:04&lt;00:00,  1.06s/it]",
            "_view_count": null,
            "_view_module_version": "1.5.0",
            "description_tooltip": null,
            "_model_module": "@jupyter-widgets/controls",
            "layout": "IPY_MODEL_818cba0cb2164b61ba2ce1225e3d7d97"
          }
        },
        "921f11b1f5f14b83989e18b0066f1309": {
          "model_module": "@jupyter-widgets/controls",
          "model_name": "DescriptionStyleModel",
          "model_module_version": "1.5.0",
          "state": {
            "_view_name": "StyleView",
            "_model_name": "DescriptionStyleModel",
            "description_width": "",
            "_view_module": "@jupyter-widgets/base",
            "_model_module_version": "1.5.0",
            "_view_count": null,
            "_view_module_version": "1.2.0",
            "_model_module": "@jupyter-widgets/controls"
          }
        },
        "4037574ce0534cb69b941bd70a3eddae": {
          "model_module": "@jupyter-widgets/base",
          "model_name": "LayoutModel",
          "model_module_version": "1.2.0",
          "state": {
            "_view_name": "LayoutView",
            "grid_template_rows": null,
            "right": null,
            "justify_content": null,
            "_view_module": "@jupyter-widgets/base",
            "overflow": null,
            "_model_module_version": "1.2.0",
            "_view_count": null,
            "flex_flow": null,
            "width": null,
            "min_width": null,
            "border": null,
            "align_items": null,
            "bottom": null,
            "_model_module": "@jupyter-widgets/base",
            "top": null,
            "grid_column": null,
            "overflow_y": null,
            "overflow_x": null,
            "grid_auto_flow": null,
            "grid_area": null,
            "grid_template_columns": null,
            "flex": null,
            "_model_name": "LayoutModel",
            "justify_items": null,
            "grid_row": null,
            "max_height": null,
            "align_content": null,
            "visibility": null,
            "align_self": null,
            "height": null,
            "min_height": null,
            "padding": null,
            "grid_auto_rows": null,
            "grid_gap": null,
            "max_width": null,
            "order": null,
            "_view_module_version": "1.2.0",
            "grid_template_areas": null,
            "object_position": null,
            "object_fit": null,
            "grid_auto_columns": null,
            "margin": null,
            "display": null,
            "left": null
          }
        },
        "565061f2ee3e47bd8c902f8971e27888": {
          "model_module": "@jupyter-widgets/controls",
          "model_name": "ProgressStyleModel",
          "model_module_version": "1.5.0",
          "state": {
            "_view_name": "StyleView",
            "_model_name": "ProgressStyleModel",
            "description_width": "",
            "_view_module": "@jupyter-widgets/base",
            "_model_module_version": "1.5.0",
            "_view_count": null,
            "_view_module_version": "1.2.0",
            "bar_color": null,
            "_model_module": "@jupyter-widgets/controls"
          }
        },
        "c7d509c057794672b7a28faa3d709dea": {
          "model_module": "@jupyter-widgets/base",
          "model_name": "LayoutModel",
          "model_module_version": "1.2.0",
          "state": {
            "_view_name": "LayoutView",
            "grid_template_rows": null,
            "right": null,
            "justify_content": null,
            "_view_module": "@jupyter-widgets/base",
            "overflow": null,
            "_model_module_version": "1.2.0",
            "_view_count": null,
            "flex_flow": null,
            "width": null,
            "min_width": null,
            "border": null,
            "align_items": null,
            "bottom": null,
            "_model_module": "@jupyter-widgets/base",
            "top": null,
            "grid_column": null,
            "overflow_y": null,
            "overflow_x": null,
            "grid_auto_flow": null,
            "grid_area": null,
            "grid_template_columns": null,
            "flex": null,
            "_model_name": "LayoutModel",
            "justify_items": null,
            "grid_row": null,
            "max_height": null,
            "align_content": null,
            "visibility": null,
            "align_self": null,
            "height": null,
            "min_height": null,
            "padding": null,
            "grid_auto_rows": null,
            "grid_gap": null,
            "max_width": null,
            "order": null,
            "_view_module_version": "1.2.0",
            "grid_template_areas": null,
            "object_position": null,
            "object_fit": null,
            "grid_auto_columns": null,
            "margin": null,
            "display": null,
            "left": null
          }
        },
        "59b451fedefe43049b595186001d205b": {
          "model_module": "@jupyter-widgets/controls",
          "model_name": "DescriptionStyleModel",
          "model_module_version": "1.5.0",
          "state": {
            "_view_name": "StyleView",
            "_model_name": "DescriptionStyleModel",
            "description_width": "",
            "_view_module": "@jupyter-widgets/base",
            "_model_module_version": "1.5.0",
            "_view_count": null,
            "_view_module_version": "1.2.0",
            "_model_module": "@jupyter-widgets/controls"
          }
        },
        "818cba0cb2164b61ba2ce1225e3d7d97": {
          "model_module": "@jupyter-widgets/base",
          "model_name": "LayoutModel",
          "model_module_version": "1.2.0",
          "state": {
            "_view_name": "LayoutView",
            "grid_template_rows": null,
            "right": null,
            "justify_content": null,
            "_view_module": "@jupyter-widgets/base",
            "overflow": null,
            "_model_module_version": "1.2.0",
            "_view_count": null,
            "flex_flow": null,
            "width": null,
            "min_width": null,
            "border": null,
            "align_items": null,
            "bottom": null,
            "_model_module": "@jupyter-widgets/base",
            "top": null,
            "grid_column": null,
            "overflow_y": null,
            "overflow_x": null,
            "grid_auto_flow": null,
            "grid_area": null,
            "grid_template_columns": null,
            "flex": null,
            "_model_name": "LayoutModel",
            "justify_items": null,
            "grid_row": null,
            "max_height": null,
            "align_content": null,
            "visibility": null,
            "align_self": null,
            "height": null,
            "min_height": null,
            "padding": null,
            "grid_auto_rows": null,
            "grid_gap": null,
            "max_width": null,
            "order": null,
            "_view_module_version": "1.2.0",
            "grid_template_areas": null,
            "object_position": null,
            "object_fit": null,
            "grid_auto_columns": null,
            "margin": null,
            "display": null,
            "left": null
          }
        }
      }
    }
  },
  "cells": [
    {
      "cell_type": "markdown",
      "metadata": {
        "id": "view-in-github",
        "colab_type": "text"
      },
      "source": [
        "<a href=\"https://colab.research.google.com/github/DataScienceResearcher/NLP/blob/main/Topic_Model_ZeroShotTM.ipynb\" target=\"_parent\"><img src=\"https://colab.research.google.com/assets/colab-badge.svg\" alt=\"Open In Colab\"/></a>"
      ]
    },
    {
      "cell_type": "code",
      "metadata": {
        "id": "hml5qob0ms3W"
      },
      "source": [
        "!pip install contextualized_topic_models"
      ],
      "execution_count": null,
      "outputs": []
    },
    {
      "cell_type": "code",
      "metadata": {
        "colab": {
          "base_uri": "https://localhost:8080/",
          "height": 1000,
          "referenced_widgets": [
            "af11f3680a0646f691b0912889177203",
            "4a5c12fb4d824438b98f1a4684e3c0db",
            "87be00a7c1d048a1afd32ed24485b10f",
            "916c1ff343d649a59fdaf8c7fa21bcce",
            "1148ccfae63e415a95062d155c92eb37",
            "921f11b1f5f14b83989e18b0066f1309",
            "4037574ce0534cb69b941bd70a3eddae",
            "565061f2ee3e47bd8c902f8971e27888",
            "c7d509c057794672b7a28faa3d709dea",
            "59b451fedefe43049b595186001d205b",
            "818cba0cb2164b61ba2ce1225e3d7d97"
          ]
        },
        "id": "rGTNb83Mmuwa",
        "outputId": "32ff5f62-5587-4530-9005-1dece09044a3"
      },
      "source": [
        "import pandas as pd   \n",
        "from contextualized_topic_models.models.ctm import ZeroShotTM\n",
        "from contextualized_topic_models.utils.data_preparation import TopicModelDataPreparation\n",
        "from contextualized_topic_models.utils.data_preparation import bert_embeddings_from_file\n",
        "\n",
        "df = pd.read_csv(\"./content/VaccineTranslations_v2.csv\")\n",
        "\n",
        "df_pro = df[df['coded_2']>0]\n",
        "df_anti = df[df['coded_2']<1]\n",
        "\n",
        "anti_context = df_anti['likelyvaccwhy'].tolist()\n",
        "anti_for_bow = df_anti['likelyvaccwhy_clean'].tolist()\n",
        "\n",
        "anti_context = [str(i) for i in anti_context]\n",
        "anti_for_bow = [str(i) for i in anti_for_bow]\n",
        "\n",
        "qt = TopicModelDataPreparation(\"paraphrase-multilingual-mpnet-base-v2\")\n",
        "\n",
        "training_dataset = qt.fit(text_for_contextual=anti_context, text_for_bow=anti_for_bow)\n",
        "\n",
        "ctm = ZeroShotTM(bow_size=len(qt.vocab), contextual_size=768, n_components=5)\n",
        "\n",
        "ctm.fit(training_dataset) # run the model\n",
        "\n",
        "ctm.get_topics(2)"
      ],
      "execution_count": 9,
      "outputs": [
        {
          "output_type": "display_data",
          "data": {
            "application/vnd.jupyter.widget-view+json": {
              "model_id": "af11f3680a0646f691b0912889177203",
              "version_minor": 0,
              "version_major": 2
            },
            "text/plain": [
              "Batches:   0%|          | 0/4 [00:00<?, ?it/s]"
            ]
          },
          "metadata": {}
        },
        {
          "output_type": "stream",
          "name": "stderr",
          "text": [
            "/usr/local/lib/python3.7/dist-packages/sklearn/utils/deprecation.py:87: FutureWarning: Function get_feature_names is deprecated; get_feature_names is deprecated in 1.0 and will be removed in 1.2. Please use get_feature_names_out instead.\n",
            "  warnings.warn(msg, category=FutureWarning)\n",
            "Epoch: [100/100]\t Seen Samples: [62000/62000]\tTrain Loss: 65.25501275831654\tTime: 0:00:00.560006: : 100it [00:56,  1.76it/s]\n",
            "Sampling: [20/20]: : 20it [00:10,  1.96it/s]\n"
          ]
        },
        {
          "output_type": "execute_result",
          "data": {
            "text/plain": [
              "defaultdict(list,\n",
              "            {0: ['vaccine', 'covid'],\n",
              "             1: ['years', 'vaccines'],\n",
              "             2: ['dont', 'risk'],\n",
              "             3: ['vaccine', 'covid'],\n",
              "             4: ['medical', 'sick'],\n",
              "             5: ['effects', 'long'],\n",
              "             6: ['vaccine', 'virus'],\n",
              "             7: ['long', 'years'],\n",
              "             8: ['trust', 'dont'],\n",
              "             9: ['side', 'effects'],\n",
              "             10: ['safe', 'pandemic'],\n",
              "             11: ['happy', 'makes'],\n",
              "             12: ['witnesses', 'impact'],\n",
              "             13: ['effects', 'side'],\n",
              "             14: ['details', 'makes'],\n",
              "             15: ['virus', 'flu'],\n",
              "             16: ['vaccinations', 'messing'],\n",
              "             17: ['covid', 'virus'],\n",
              "             18: ['barrier', 'mercury'],\n",
              "             19: ['tested', 'rushed'],\n",
              "             20: ['effects', 'side'],\n",
              "             21: ['flu', 'covid'],\n",
              "             22: ['barrier', 'suffieciently'],\n",
              "             23: ['long', 'effects'],\n",
              "             24: ['take', 'people'],\n",
              "             25: ['react', 'needing'],\n",
              "             26: ['people', 'take'],\n",
              "             27: ['passive', 'system'],\n",
              "             28: ['long', 'term'],\n",
              "             29: ['side', 'effects'],\n",
              "             30: ['effects', 'term'],\n",
              "             31: ['vaccine', 'get'],\n",
              "             32: ['tested', 'trials'],\n",
              "             33: ['black', 'experiments'],\n",
              "             34: ['contain', 'information'],\n",
              "             35: ['barrier', 'details'],\n",
              "             36: ['tested', 'rushed'],\n",
              "             37: ['depend', 'barrier'],\n",
              "             38: ['trust', 'vaccinations'],\n",
              "             39: ['vaccine', 'would'],\n",
              "             40: ['effects', 'term'],\n",
              "             41: ['needles', 'away'],\n",
              "             42: ['enough', 'proven'],\n",
              "             43: ['think', 'needed'],\n",
              "             44: ['benefiting', 'recommended'],\n",
              "             45: ['vaccine', 'rushed'],\n",
              "             46: ['people', 'take'],\n",
              "             47: ['flu', 'believe'],\n",
              "             48: ['vaccine', 'term'],\n",
              "             49: ['vaccine', 'vaccines']})"
            ]
          },
          "metadata": {},
          "execution_count": 9
        }
      ]
    },
    {
      "cell_type": "code",
      "metadata": {
        "id": "mcXz1V1grJJR",
        "outputId": "9eb05069-3225-4c49-fe6f-8f126d98dc92",
        "colab": {
          "base_uri": "https://localhost:8080/"
        }
      },
      "source": [
        "ctm = ZeroShotTM(bow_size=len(qt.vocab), contextual_size=768, n_components=5)\n",
        "\n",
        "ctm.fit(training_dataset) # run the model\n",
        "\n",
        "ctm.get_topics(6)"
      ],
      "execution_count": 12,
      "outputs": [
        {
          "output_type": "stream",
          "name": "stderr",
          "text": [
            "Epoch: [100/100]\t Seen Samples: [62000/62000]\tTrain Loss: 48.15027564264113\tTime: 0:00:00.522908: : 100it [00:52,  1.89it/s]\n",
            "Sampling: [20/20]: : 20it [00:09,  2.10it/s]\n"
          ]
        },
        {
          "output_type": "execute_result",
          "data": {
            "text/plain": [
              "defaultdict(list,\n",
              "            {0: ['lock',\n",
              "              'trusted',\n",
              "              'vaccinations',\n",
              "              'faith',\n",
              "              'society',\n",
              "              'tracking'],\n",
              "             1: ['vaccine', 'years', 'time', 'virus', 'developed', 'vaccines'],\n",
              "             2: ['flu', 'virus', 'immune', 'think', 'system', 'immunity'],\n",
              "             3: ['trialed',\n",
              "              'updated',\n",
              "              'concern',\n",
              "              'established',\n",
              "              'late',\n",
              "              'let'],\n",
              "             4: ['term', 'side', 'effects', 'long', 'would', 'want']})"
            ]
          },
          "metadata": {},
          "execution_count": 12
        }
      ]
    }
  ]
}